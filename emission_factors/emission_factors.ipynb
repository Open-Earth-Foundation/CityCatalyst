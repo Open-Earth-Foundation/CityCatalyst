{
 "cells": [
  {
   "cell_type": "markdown",
   "id": "b7b1430d-2638-49db-92bd-1af9b648c449",
   "metadata": {},
   "source": [
    "# US emission factors from emission factors database"
   ]
  },
  {
   "cell_type": "code",
   "execution_count": 1,
   "id": "ffcf5230-ed0b-4e92-a0f4-96603028fae8",
   "metadata": {},
   "outputs": [],
   "source": [
    "import csv\n",
    "import math\n",
    "import os\n",
    "import pandas as pd\n",
    "from pathlib import Path\n",
    "import re\n",
    "import statistics"
   ]
  },
  {
   "cell_type": "code",
   "execution_count": 2,
   "id": "4f1d983f-ba9b-49d8-891b-a180a03345ad",
   "metadata": {},
   "outputs": [],
   "source": [
    "def separate_min_max_median(val):\n",
    "    \"\"\"extract value, takes median if range is given\"\"\"\n",
    "    value = val.replace(' ', '').strip()\n",
    "    \n",
    "    range_pattern = r'(?P<min>[\\d.]+)-(?P<max>[\\d.]+)'\n",
    "    single_pattern = r'^([\\d.]+)$'\n",
    "\n",
    "    range_match = re.search(range_pattern, value)\n",
    "    single_match = re.match(single_pattern, value)\n",
    "\n",
    "    if range_match:\n",
    "        min_val = float(range_match.group('min'))\n",
    "        max_val = float(range_match.group('max'))\n",
    "        median = statistics.median([min_val, max_val])\n",
    "        return {'value': median, 'value_min': min_val, 'value_max': max_val}\n",
    "    elif single_match:\n",
    "        return {'value': float(single_match.group(1)), 'value_min': None, 'value_max': None}\n",
    "    else:\n",
    "        return {'value': None, 'value_min': None, 'value_max': None}\n",
    "\n",
    "    \n",
    "def strip_string(value):\n",
    "    \"\"\"strip whitespace from string\"\"\"\n",
    "    if isinstance(value, str):\n",
    "        return value.strip()\n",
    "    return value\n",
    "\n",
    "\n",
    "def gas_name_to_formula(value, replace_dict=None):\n",
    "    \"\"\"replace gas name with formula\"\"\"\n",
    "    if replace_dict is None:\n",
    "        replace_dict = {\n",
    "            'CARBON DIOXIDE': 'CO2',\n",
    "            'METHANE': 'CH4',\n",
    "            'NITROUS OXIDE': 'N2O'\n",
    "        }\n",
    "    else:\n",
    "        replace_dict = {key.upper():value for key, value in replace_dict.items()}\n",
    "        \n",
    "    new_value = replace_dict.get(value.upper(), None)\n",
    "\n",
    "    if new_value:\n",
    "        return new_value\n",
    "    \n",
    "    return value\n",
    "\n",
    "\n",
    "def save_to_csv(fl, data):\n",
    "    \"\"\"save list of dictionaries to CSV\"\"\"\n",
    "    with open(fl, 'w', newline='') as csvfile:\n",
    "        fieldnames = data[0].keys()  # Assuming all dictionaries have the same keys\n",
    "        writer = csv.DictWriter(csvfile, fieldnames=fieldnames)\n",
    "\n",
    "        writer.writeheader()\n",
    "        writer.writerows(data)"
   ]
  },
  {
   "cell_type": "markdown",
   "id": "b0f35c58-80d2-4127-b447-b192c76c03fc",
   "metadata": {},
   "source": [
    "## 1. read and preprocess data"
   ]
  },
  {
   "cell_type": "code",
   "execution_count": 3,
   "id": "18538710-3d52-4ff8-a55c-4cfb020b81d2",
   "metadata": {},
   "outputs": [],
   "source": [
    "# only want to keep categories that align with GPC BASIC\n",
    "IPCC_2006 = [\n",
    "    '1.A - Fuel Combustion Activities',\n",
    "    '1.A.1.a.ii - Combined Heat and Power Generation (CHP)',\n",
    "    '1.A.3.b - Road Transportation',\n",
    "    '1.B.1.a - Coal mining and handling',\n",
    "    '1.B.2 - Oil and Natural Gas',\n",
    "    '1.B.2.a - Oil',\n",
    "    '1.B.2.b - Natural Gas',\n",
    "    #'2.E.1 - Integrated Circuit or Semiconductor',\n",
    "    #'2.G.1.b - Use of Electrical Equipment',\n",
    "    #'3.C.7 - Rice cultivations',\n",
    "    '4.B - Biological Treatment of Solid Waste',\n",
    "    '4.D.1 - Domestic Wastewaster Treatment and Discharge'\n",
    "]\n",
    "\n",
    "# I only care about these columns in the dataset\n",
    "COLUMNS = [\n",
    "    'IPCC 2006 Source/Sink Category',\n",
    "    'Value',\n",
    "    'Unit',\n",
    "    'Gas',\n",
    "    'Fuel 2006',\n",
    "    'Region / Regional Conditions',\n",
    "    'Description',\n",
    "    'Equation',\n",
    "    'Technical Reference',\n",
    "    'Parameters / Conditions',\n",
    "    'Other properties',\n",
    "]\n",
    "\n",
    "\n",
    "df = pd.read_csv('./EFDB_USA.csv')\n",
    "\n",
    "filt_desc = df['Description'].str.contains('emission factor', case=False, na=False)\n",
    "filt_cat = df['IPCC 2006 Source/Sink Category'].isin(IPCC_2006)\n",
    "filt = filt_desc & filt_cat\n",
    "df_filt = df.loc[filt, COLUMNS].reset_index(drop=True)"
   ]
  },
  {
   "cell_type": "markdown",
   "id": "aae672ec-1867-405b-ae5e-6f111a35a258",
   "metadata": {},
   "source": [
    "## create list of dictionaries"
   ]
  },
  {
   "cell_type": "code",
   "execution_count": 4,
   "id": "295751c7-49cc-4b29-b82a-f7a30156bd03",
   "metadata": {},
   "outputs": [],
   "source": [
    "output_list = []\n",
    "\n",
    "# for now I am only keeping emission factors that are listed as being for the US\n",
    "# for example, I am not keeping ones that are application to a list of states\n",
    "# this is just for testing purposes\n",
    "acceptable_region_names = ['UNITED STATES OF AMERICA', 'USA']\n",
    "\n",
    "# loop over\n",
    "for _, row in df_filt.iterrows():\n",
    "    # strip extraneous whitespace\n",
    "    row = row.apply(strip_string)\n",
    "\n",
    "    # get min, max, and median value\n",
    "    value = row.pop('Value')\n",
    "    value_dic = separate_min_max_median(value)\n",
    "    \n",
    "    # rename rows and convert to dictionary\n",
    "    row_dic = row.rename(\n",
    "        {\n",
    "            'Unit':'units', \n",
    "            'IPCC 2006 Source/Sink Category': 'ipcc_2006_category',\n",
    "            'Gas': 'gas',\n",
    "            'Fuel 2006': 'fuel',\n",
    "            'Region / Regional Conditions': 'region',\n",
    "            'Description': 'description',\n",
    "            'Equation': 'equation',\n",
    "            'Technical Reference': 'reference',\n",
    "            'Parameters / Conditions': 'parameters',\n",
    "            'Other properties': 'properties'\n",
    "        }).to_dict()\n",
    "    \n",
    "    # merge dictionaries\n",
    "    dic_tmp = {**row_dic, **value_dic}\n",
    "    \n",
    "    # convert nan to None\n",
    "    output_dic = {key: None if (isinstance(value, float)) and math.isnan(value) else value \n",
    "                  for key, value in dic_tmp.items()}\n",
    "\n",
    "    # replace name of gas with chemical formula\n",
    "    output_dic['gas'] = gas_name_to_formula(output_dic['gas'])\n",
    "    \n",
    "    if output_dic['region'].upper() in acceptable_region_names:\n",
    "        # change name\n",
    "        output_dic['region'] = 'USA'\n",
    "    \n",
    "        # append to list\n",
    "        output_list.append(output_dic)"
   ]
  },
  {
   "cell_type": "markdown",
   "id": "7627807e-3e75-48a3-992f-cb9b68a38a01",
   "metadata": {},
   "source": [
    "## sort dictionaries by category"
   ]
  },
  {
   "cell_type": "code",
   "execution_count": 5,
   "id": "a7b4518d-eed0-4619-bd76-8a22aeb4c9a2",
   "metadata": {},
   "outputs": [],
   "source": [
    "# sort list of dictionaries by ipcc category\n",
    "output_list = sorted(output_list, key=lambda x: x['ipcc_2006_category'])"
   ]
  },
  {
   "cell_type": "markdown",
   "id": "444a202b-07cb-4d20-8b9f-acb609b42e2f",
   "metadata": {},
   "source": [
    "## save to csv"
   ]
  },
  {
   "cell_type": "code",
   "execution_count": 6,
   "id": "31616e6a-8e12-43e7-bb41-ee9746ec2b64",
   "metadata": {},
   "outputs": [],
   "source": [
    "fl = \"processed_data.csv\"\n",
    "save_to_csv(fl, output_list)"
   ]
  }
 ],
 "metadata": {
  "kernelspec": {
   "display_name": "digs",
   "language": "python",
   "name": "digs"
  },
  "language_info": {
   "codemirror_mode": {
    "name": "ipython",
    "version": 3
   },
   "file_extension": ".py",
   "mimetype": "text/x-python",
   "name": "python",
   "nbconvert_exporter": "python",
   "pygments_lexer": "ipython3",
   "version": "3.10.12"
  }
 },
 "nbformat": 4,
 "nbformat_minor": 5
}
