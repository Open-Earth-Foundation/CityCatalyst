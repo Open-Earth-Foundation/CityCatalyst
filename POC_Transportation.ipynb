{
 "cells": [
  {
   "cell_type": "markdown",
   "id": "71c03c3f",
   "metadata": {},
   "source": [
    "## POC - Transportation Sector\n",
    "### City: Boston\n",
    "\n",
    "This notebook contains some calculations for GHG emissions for the transportation sector in Boston city in 2019, based on the GPC protocol."
   ]
  },
  {
   "cell_type": "code",
   "execution_count": 1,
   "id": "227d7151",
   "metadata": {},
   "outputs": [],
   "source": [
    "import pandas as pd"
   ]
  },
  {
   "cell_type": "markdown",
   "id": "78a87602",
   "metadata": {},
   "source": [
    "### GPC Formulas"
   ]
  },
  {
   "cell_type": "markdown",
   "id": "85fb4815",
   "metadata": {},
   "source": [
    "Modern fuels are often blends of (bio)ethanol or biodiesel with fossil fuel derived diesel or gasoline"
   ]
  },
  {
   "cell_type": "code",
   "execution_count": 2,
   "id": "655921e1",
   "metadata": {},
   "outputs": [],
   "source": [
    "def EF_biogenicC02():\n",
    "    \"\"\"\n",
    "    CO2 emissions resulting from combustion of ethanol or biodiesel\n",
    "    \n",
    "    Source\n",
    "    ------\n",
    "    see Ch.7 of “GHG Protocol for Cities”\n",
    "    https://ghgprotocol.org/ghg-protocol-cities\n",
    "    section 7.3.2\n",
    "    \"\"\"\n",
    "    \n",
    "    EF_biogenicCO2 = EF_ethanol*percentage_ethanol\n",
    "    return EF_biogenicCO2"
   ]
  },
  {
   "cell_type": "code",
   "execution_count": 3,
   "id": "c2c97642",
   "metadata": {},
   "outputs": [],
   "source": [
    "def EF_NonBiogenicCO2():\n",
    "    \"\"\"\n",
    "    CO2 emissions resulting from combustion of fossil-fuel derived element\n",
    "    Source\n",
    "    ------\n",
    "    see Ch.7 of “GHG Protocol for Cities”\n",
    "    https://ghgprotocol.org/ghg-protocol-cities\n",
    "    section 7.3.2\n",
    "    \"\"\"\n",
    "    \n",
    "    EF_nonbiogenicCO2 = EF_co2_petroleum*(100-percentage_ethanol)\n",
    "    return EF_nonbiogenicCO2"
   ]
  },
  {
   "cell_type": "code",
   "execution_count": 4,
   "id": "b49474fc",
   "metadata": {},
   "outputs": [],
   "source": [
    "def EF_CH4():\n",
    "    \"\"\"\n",
    "    \n",
    "    Source\n",
    "    ------\n",
    "    see Ch.7 of “GHG Protocol for Cities”\n",
    "    https://ghgprotocol.org/ghg-protocol-cities\n",
    "    section 7.3.2\n",
    "    \"\"\"\n",
    "    \n",
    "    EF_ch4 = EF_ch4_ethanol*percentage_ethanol + EF_ch4_petroleum*(100-percentage_ethanol)\n",
    "    return EF_ch4"
   ]
  },
  {
   "cell_type": "code",
   "execution_count": 5,
   "id": "a1b838f3",
   "metadata": {},
   "outputs": [],
   "source": [
    "def EF_NO2():\n",
    "    \"\"\"\n",
    "    \n",
    "    Source\n",
    "    ------\n",
    "    see Ch.7 of “GHG Protocol for Cities”\n",
    "    https://ghgprotocol.org/ghg-protocol-cities\n",
    "    section 7.3.2\n",
    "    \"\"\"\n",
    "    \n",
    "    EF_no2 = EF_no2_ethanol*percentage_ethanol + EF_no2_petroleum*(100-percentage_ethanol)\n",
    "    return EF_no2"
   ]
  },
  {
   "cell_type": "markdown",
   "id": "e89a637f",
   "metadata": {},
   "source": [
    "# Data Analysis"
   ]
  },
  {
   "cell_type": "markdown",
   "id": "5a2176dd",
   "metadata": {},
   "source": [
    "## Fuel sales method"
   ]
  },
  {
   "cell_type": "markdown",
   "id": "b6cf3961",
   "metadata": {},
   "source": [
    "The idea here is:\n",
    "- Find the total number of fuel stations in Boston\n",
    "- Find information about total fuel sales in a city level, ideally categorized by fuel type sales\n",
    "\n",
    "if not:\n",
    "- Find information about total fuel sales in a state level or country level, ideally categorized by fuel type sales and scale it down"
   ]
  },
  {
   "cell_type": "markdown",
   "id": "59b6d665",
   "metadata": {},
   "source": [
    "### General Information"
   ]
  },
  {
   "cell_type": "code",
   "execution_count": 6,
   "id": "b6ee8ec6",
   "metadata": {},
   "outputs": [],
   "source": [
    "#Population 2019\n",
    "\n",
    "pop_US = 328300000\n",
    "pop_Ma = 68950000 \n",
    "pop_Bos = 694661"
   ]
  },
  {
   "cell_type": "code",
   "execution_count": 7,
   "id": "ebf608d6",
   "metadata": {},
   "outputs": [],
   "source": [
    "#Emission Factors\n",
    "\n",
    "#Mobile Combustion CO2 Emission Factor\n",
    "CO2_EF_gasoline = 8.78 #kg CO2 per Gallon\n",
    "CO2_EF_diesel = 10.21 #kg CO2 per Gallon\n",
    "CO2_EF_NG = 0.0545 #kg CO2 per scf\n",
    "\n",
    "#Light-rail systems \n",
    "#reference = https://www.apta.com/wp-content/uploads/Standards_Documents/APTA-SUDS-CC-RP-001-09_Rev-1.pdf\n",
    "EF_Light_Rail = 0.365 #National Average Weighted  by PMT (lbs CO2/PMT)\n",
    "EF_Heavy_Rail = 0.224  #National Average Weighted  by PMT (lbs CO2/PMT)\n",
    "\n",
    "#Not included to avoid double account\n",
    "EF_Bus = 0.643 #National Average Weighted  by PMT (lbs CO2/PMT)\n",
    "\n",
    "EF_others = 4.34 # mean of Range1 (lbs CO2/PMT) \n",
    "\n",
    "#https://www.eia.gov/environment/emissions/co2_vol_mass.php\n",
    "EF_Distillate_Oil = 10.19 # Kilograms CO2 / gallon \n",
    "EF_Distillate_Oil = 10.19*0.00110231 # Tonnes CO2 / gallon \n",
    "\n",
    "EF_Resodual_Oil = 11.27 # Kilograms CO2 / gallon \n",
    "EF_Resodual_Oil = 11.27*0.00110231 # Tonnes CO2 / gallon \n",
    "\n",
    "#source: https://theicct.org/publication/co2-emissions-from-commercial-aviation-2013-2018-and-2019/#:~:text=On%20average%2C%20passenger%20aviation%20emitted,per%20year%20for%20international%20flights.\n",
    "ef_flights = 90 #grams of CO2 per passenger-kilometer in 2019\n",
    "EF_flights = 90*(1/0.621371)*(1/1000000) #Tonnes of CO2 / miles"
   ]
  },
  {
   "cell_type": "markdown",
   "id": "fb1567f4",
   "metadata": {},
   "source": [
    "### On-road Transportation estimation"
   ]
  },
  {
   "cell_type": "code",
   "execution_count": 8,
   "id": "08c16c3c",
   "metadata": {},
   "outputs": [],
   "source": [
    "#Source: https://www.fhwa.dot.gov/policyinformation/motorfuel/dec19/dec19.pdf\n",
    "gasoline_2019_MA = 2803731456 #gallons"
   ]
  },
  {
   "cell_type": "code",
   "execution_count": 9,
   "id": "350c39a9",
   "metadata": {},
   "outputs": [],
   "source": [
    "#Source: https://www.statista.com/statistics/1320482/monthly-us-diesel-consumption/\n",
    "diesel_2019_US_barrels = 48220000 #barrels per day\n",
    "diesel_2019_US_barrels = 48220000*365 #barrels in 2019\n",
    "\n",
    "#If using U.S. oil barrels\n",
    "#Number of barrels * 42 gallons/barrel = Equivalent volume in gallons\n",
    "\n",
    "diesel_2019_US = diesel_2019_US_barrels*42 #gallons"
   ]
  },
  {
   "cell_type": "code",
   "execution_count": 10,
   "id": "e7767576",
   "metadata": {},
   "outputs": [],
   "source": [
    "#Natural Gas\n",
    "#Natural Gas Consumption by End Use\n",
    "#Transportation - Vehicle Fuel\n",
    "#https://www.eia.gov/dnav/ng/ng_cons_sum_dcu_SMA_a.htm\n",
    "\n",
    "Natural_Gas_MA = 130 #Million Cubic Feet MCF\n",
    "Natural_Gas_MA = 130000000 #standard cubic feet (SCF)"
   ]
  },
  {
   "cell_type": "code",
   "execution_count": 11,
   "id": "c6600e8e",
   "metadata": {},
   "outputs": [
    {
     "name": "stdout",
     "output_type": "stream",
     "text": [
      "28247177.62083272\n",
      "1564124775.901919\n",
      "275071.3676515382\n"
     ]
    }
   ],
   "source": [
    "gasoline_Bos = (gasoline_2019_MA*pop_Bos)/(pop_Ma) #gallons\n",
    "diesel_Bos = (diesel_2019_US*pop_Bos)/(pop_US) #gallons\n",
    "NG_Bos = (Natural_Gas_MA*pop_Bos)/(pop_US) #SCF\n",
    "\n",
    "print(gasoline_Bos)\n",
    "print(diesel_Bos)\n",
    "print(NG_Bos)"
   ]
  },
  {
   "cell_type": "code",
   "execution_count": 12,
   "id": "c2cc63f4",
   "metadata": {},
   "outputs": [
    {
     "name": "stdout",
     "output_type": "stream",
     "text": [
      "273384.1450690726\n",
      "17603575.397406578\n",
      "16.52515860054021\n"
     ]
    }
   ],
   "source": [
    "emissions_CO2_Gasoline = (gasoline_Bos * CO2_EF_gasoline)*(0.00110231) #Tonnes of CO2\n",
    "emissions_CO2_Diesel = (diesel_Bos * CO2_EF_diesel)*(0.00110231) #Tonnes of CO2\n",
    "emissions_CO2_NG = (NG_Bos * CO2_EF_NG)*(0.00110231) #Tonnes of CO2\n",
    "\n",
    "print(emissions_CO2_Gasoline)\n",
    "print(emissions_CO2_Diesel)\n",
    "print(emissions_CO2_NG)"
   ]
  },
  {
   "cell_type": "markdown",
   "id": "e789f714",
   "metadata": {},
   "source": [
    "### Railways"
   ]
  },
  {
   "cell_type": "code",
   "execution_count": 13,
   "id": "7c002ebc",
   "metadata": {},
   "outputs": [],
   "source": [
    "#MBTA\n",
    "#reference -> https://www.apta.com/wp-content/uploads/2022-Q4-Ridership-APTA.pdf\n",
    "Light_Rail = 30705000 #passenger miles travelled (PMT)\n",
    "Heavy_Rail = 80969900 #passenger miles travelled (PMT)\n",
    "\n",
    "Bus = 4603307 #passenger miles travelled (PMT)"
   ]
  },
  {
   "cell_type": "code",
   "execution_count": 14,
   "id": "63e87ac3",
   "metadata": {},
   "outputs": [
    {
     "name": "stdout",
     "output_type": "stream",
     "text": [
      "5603.6625\n",
      "9068.6288\n"
     ]
    }
   ],
   "source": [
    "Emissions_Light_Rail = Light_Rail * EF_Light_Rail * 0.0005 #Tonnes of CO2\n",
    "Emissions_Heavy_Rail = Heavy_Rail * EF_Heavy_Rail * 0.0005 #Tonnes of CO2\n",
    "\n",
    "print(Emissions_Light_Rail)\n",
    "print(Emissions_Heavy_Rail)"
   ]
  },
  {
   "cell_type": "markdown",
   "id": "6ee72e09",
   "metadata": {},
   "source": [
    "### Waterborne navigation"
   ]
  },
  {
   "cell_type": "code",
   "execution_count": 15,
   "id": "d510609b",
   "metadata": {},
   "outputs": [],
   "source": [
    "#MBTA\n",
    "#Source: https://www.mbta.com/performance-metrics/ridership-the-t\n",
    "ferry = 69560 #passenger miles travelled (PMT)"
   ]
  },
  {
   "cell_type": "code",
   "execution_count": 16,
   "id": "b3b60e5c",
   "metadata": {},
   "outputs": [
    {
     "name": "stdout",
     "output_type": "stream",
     "text": [
      "150.9452\n"
     ]
    }
   ],
   "source": [
    "Emissions_Ferry = ferry * EF_others * 0.0005 #Tonnes of CO2\n",
    "\n",
    "print(Emissions_Ferry)"
   ]
  },
  {
   "cell_type": "markdown",
   "id": "0e4c7a77",
   "metadata": {},
   "source": [
    "### Aviation"
   ]
  },
  {
   "cell_type": "code",
   "execution_count": 17,
   "id": "4ae3d05b",
   "metadata": {},
   "outputs": [],
   "source": [
    "#Source: https://www.transtats.bts.gov/Data_Elements.aspx?Data=1\n",
    "#Airport Logan International\n",
    "\n",
    "Domestic_flights = 19126938 #passenger\n",
    "International_flights = 12795195 #passenger"
   ]
  },
  {
   "cell_type": "code",
   "execution_count": null,
   "id": "a4cd6441",
   "metadata": {},
   "outputs": [],
   "source": [
    "Emissions_Domestic_Flights = Domestic_flights * EF_flights\n",
    "Emissions_International_Flights = International_flights * EF_flights\n",
    "\n",
    "print(Emissions_Domestic_Flights)\n",
    "print(Emissions_International_Flights)"
   ]
  },
  {
   "cell_type": "markdown",
   "id": "8919558f",
   "metadata": {},
   "source": [
    "### Electricity - Scope 2"
   ]
  },
  {
   "cell_type": "code",
   "execution_count": 18,
   "id": "7c969e9d",
   "metadata": {},
   "outputs": [
    {
     "name": "stdout",
     "output_type": "stream",
     "text": [
      "3031.6082496770523\n",
      "2215.3407404411505\n",
      "49624.71898101399\n"
     ]
    }
   ],
   "source": [
    "#Adjusted Sales of Distillate Fuel Oil by End Use\n",
    "#https://www.eia.gov/dnav/pet/pet_cons_821dsta_dcu_SMA_a.htm\n",
    "\n",
    "Off_Highway_MA = 26789000 #gallons\n",
    "Off_Highway_Bos = (Off_Highway_MA*pop_Bos)/(pop_Ma)\n",
    "Emissions_Off_Highway = Off_Highway_Bos*EF_Distillate_Oil\n",
    "print(Emissions_Off_Highway)\n",
    "\n",
    "Railroad_MA = 19576000 #gallons\n",
    "Railroad_Bos = (Railroad_MA*pop_Bos)/(pop_Ma)\n",
    "Emissions_Railroad = Railroad_Bos*EF_Distillate_Oil\n",
    "print(Emissions_Railroad)\n",
    "\n",
    "On_Highway_MA = 438512000 #gallons\n",
    "On_Highway_Bos = (On_Highway_MA*pop_Bos)/(pop_Ma)\n",
    "Emissions_On_Highway = On_Highway_Bos*EF_Distillate_Oil\n",
    "print(Emissions_On_Highway)"
   ]
  },
  {
   "cell_type": "code",
   "execution_count": 19,
   "id": "29830408",
   "metadata": {},
   "outputs": [
    {
     "name": "stdout",
     "output_type": "stream",
     "text": [
      "1075.9838455309798\n",
      "1114.301418526656\n"
     ]
    }
   ],
   "source": [
    "#Adjusted Sales of Distillate Fuel Oil by End Use\n",
    "#https://www.eia.gov/dnav/pet/pet_cons_821dsta_dcu_SMA_a.htm\n",
    "\n",
    "Vessel_Bunkering_MA_DFO = 9508000 #gallons\n",
    "Vessel_Bunkering_DFO = (Vessel_Bunkering_MA_DFO*pop_Bos)/(pop_Ma)\n",
    "Emissions_Vessel_Bunkering_DFO = Vessel_Bunkering_DFO*EF_Distillate_Oil\n",
    "print(Emissions_Vessel_Bunkering_DFO)\n",
    "\n",
    "#Adjusted Sales of Residual Fuel Oil by End Use\n",
    "#https://www.eia.gov/dnav/pet/pet_cons_821rsda_dcu_nus_a.htm\n",
    "\n",
    "Vessel_Bunkering_MA_RFO = 8903000 #gallons\n",
    "Vessel_Bunkering_RFO = (Vessel_Bunkering_MA_RFO*pop_Bos)/(pop_Ma)\n",
    "Emissions_Vessel_Bunkering_RFO = Vessel_Bunkering_RFO*EF_Resodual_Oil\n",
    "print(Emissions_Vessel_Bunkering_RFO)"
   ]
  }
 ],
 "metadata": {
  "kernelspec": {
   "display_name": "Python 3 (ipykernel)",
   "language": "python",
   "name": "python3"
  },
  "language_info": {
   "codemirror_mode": {
    "name": "ipython",
    "version": 3
   },
   "file_extension": ".py",
   "mimetype": "text/x-python",
   "name": "python",
   "nbconvert_exporter": "python",
   "pygments_lexer": "ipython3",
   "version": "3.9.13"
  }
 },
 "nbformat": 4,
 "nbformat_minor": 5
}
